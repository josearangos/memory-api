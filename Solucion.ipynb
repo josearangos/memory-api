{
 "cells": [
  {
   "cell_type": "markdown",
   "metadata": {
    "colab_type": "text",
    "id": "rRnkCzQg0pNG"
   },
   "source": [
    "# **Actividades de laboratorio**"
   ]
  },
  {
   "cell_type": "markdown",
   "metadata": {
    "colab_type": "text",
    "id": "w1blMT0duekq"
   },
   "source": [
    "1- Escriba un programa simple llamado ```null.c``` que cree un puntero a un \n",
    "entero, llevelo a null y entonces intente desreferenciarlo (esto es, asignarle un valor). Compile este programa llamado ```null```. ¿Qué pasa cuando usted ejecuta este programa?\n",
    "\n",
    "Cuando se ejecuta el programa, sale el siguiente mensaje:\n"
   ]
  },
  {
   "cell_type": "markdown",
   "metadata": {},
   "source": [
    "![texto alternativo](./Imagenes/P_1.png)"
   ]
  },
  {
   "cell_type": "markdown",
   "metadata": {},
   "source": [
    "Debido a que solicitamos una pocisión de memoria nula, que no tenemos acceso."
   ]
  },
  {
   "cell_type": "markdown",
   "metadata": {
    "colab_type": "text",
    "id": "Hr40bE8Mueks"
   },
   "source": [
    "2- Compile el programa del ejercicio anterior usando información de simbolos (con la flag -g). Al hacer esto se esta poniendo mas informacion en el ejecutable para permitir al debugger acceder a informacion util sobre los nombres de las variables y cosas similares. Ejecute el programa bajo el debugger digitando en consola (para el caso) ```gdb null``` y entonces una vez el ```gdb``` este corriendo ejecute ```run```. ¿Qué muestra gdb?"
   ]
  },
  {
   "cell_type": "markdown",
   "metadata": {},
   "source": [
    "![texto alternativo](./Imagenes/P_2.png)"
   ]
  },
  {
   "cell_type": "markdown",
   "metadata": {
    "colab_type": "text",
    "id": "wvfiVpVluekt"
   },
   "source": [
    "3- Haga uso de la herramienta ```valgrind``` en el programa empleado en los puntos anteriores. Se usará la herramienta ```memcheck``` que es parte de ```valgrind``` para analizar lo que pasa: ```valgrind --leak-check=yes null```. ¿Qué pasa cuando corre esto?, ¿Puede usted interpretar la salida de la herramienta anterior?"
   ]
  },
  {
   "cell_type": "markdown",
   "metadata": {},
   "source": [
    "Como se logra apreciar en el HEAP SUMMARY, no se esta asignando memoria, por lo tanto tenemos problemas al asignar el valor posteriormente. "
   ]
  },
  {
   "cell_type": "markdown",
   "metadata": {},
   "source": [
    "![texto alternativo](./Imagenes/P_3.png)"
   ]
  },
  {
   "cell_type": "markdown",
   "metadata": {
    "colab_type": "text",
    "id": "SN1k6jnsuekv"
   },
   "source": [
    "4- Escriba un programa sencillo que asigne memoria usando ```malloc()``` pero olvide liberarla antes de que el programa termina. ¿Qué pasa cuando este programa se ejecuta?, ¿Puede usted usar gdb para encontrar problemas como este?, ¿Que dice acerca de Valgrind (de nuevo use este con la bandera ```--leak check=yes```)?\n"
   ]
  },
  {
   "cell_type": "markdown",
   "metadata": {},
   "source": [
    "Ejecutamos el programa:"
   ]
  },
  {
   "cell_type": "markdown",
   "metadata": {},
   "source": [
    "![texto alternativo](./Imagenes/P_4_1.png)"
   ]
  },
  {
   "cell_type": "markdown",
   "metadata": {},
   "source": [
    "Al emplear GBD, se ejecuta pero no es posible determinar memory leaks ya que no se muestra información sobre HEAP"
   ]
  },
  {
   "cell_type": "markdown",
   "metadata": {},
   "source": [
    "![texto alternativo](./Imagenes/P_4_2.png)"
   ]
  },
  {
   "cell_type": "markdown",
   "metadata": {},
   "source": [
    "Al emplear la herramienta Valgrind es posible presenciar que falta liberar memoria, como se muestra acontinuación."
   ]
  },
  {
   "cell_type": "markdown",
   "metadata": {},
   "source": [
    "![texto alternativo](./Imagenes/P_4_3.png)"
   ]
  },
  {
   "cell_type": "markdown",
   "metadata": {
    "colab_type": "text",
    "id": "GPbS_eUUuekw"
   },
   "source": [
    "5- Escriba un programa que cree un array de enteros llamado data de un tamaño de 100 usando ```malloc```; entonces, lleve el ```data[100]``` a ```0```. ¿Qué pasa cuando este programa se ejecuta?, ¿Qué pasa cuando se corre el programa usando ```valgrind```?, ¿El programa es correcto?\n"
   ]
  },
  {
   "cell_type": "code",
   "execution_count": 0,
   "metadata": {
    "colab": {},
    "colab_type": "code",
    "id": "yhhsVMXVuekx"
   },
   "outputs": [],
   "source": [
    "#define NULL 0\n",
    "\n",
    "int main() {  \n",
    "  int *data = (int)malloc(100*sizeof(int));\n",
    "  data[100]=0;\n",
    "  free(data);\n",
    "  data = NULL;\n",
    "  return 0;\n",
    "}"
   ]
  },
  {
   "cell_type": "markdown",
   "metadata": {
    "colab_type": "text",
    "id": "SPkP3-ptuek6"
   },
   "source": [
    "http://pythontutor.com/c.html#code=%23define%20NULL%200%0A%0Aint%20main%28%29%20%7B%20%20%0A%20%20//%20Reserva%20de%20memoria%0A%20%20int%20*data%20%3D%20%28int%29malloc%28100*sizeof%28int%29%29%3B%0A%20%20data%5B100%5D%3D0%3B%0A%20%20//%20Liberacion%20de%20memoria%0A%20%20free%28data%29%3B%0A%20%20data%20%3D%20NULL%3B%0A%20%20return%200%3B%0A%7D&curInstr=3&mode=display&origin=opt-frontend.js&py=c&rawInputLstJSON=%5B%5D"
   ]
  },
  {
   "cell_type": "markdown",
   "metadata": {
    "colab_type": "text",
    "id": "j2ZCrUK7uek7"
   },
   "source": [
    "Cuando el programa se ejecuta no muestra ningun error y finaliza sin problemas."
   ]
  },
  {
   "cell_type": "markdown",
   "metadata": {
    "colab_type": "text",
    "id": "d1VcTBVBvgOy"
   },
   "source": [
    "![texto alternativo](https://raw.githubusercontent.com/grusnny/memory-api-master/master/Imagenes/Punto%205-%20gdb.png?token=AI5RIW3ZHBUU5DG45AXELM26TDDRG)"
   ]
  },
  {
   "cell_type": "markdown",
   "metadata": {
    "colab_type": "text",
    "id": "tJ_FoiBOvlyN"
   },
   "source": [
    "Pero al ejecutar el valgrind para verificar se observan errores que corresponden a un acceso fuera de los limites."
   ]
  },
  {
   "cell_type": "markdown",
   "metadata": {
    "colab_type": "text",
    "id": "Lc6Dwc3avzgf"
   },
   "source": [
    "![texto alternativo](https://raw.githubusercontent.com/grusnny/memory-api-master/master/Imagenes/Punto%205-Valgrind.png?token=AI5RIW7DHKXOJ666HTDVG7C6TDD2K)"
   ]
  },
  {
   "cell_type": "markdown",
   "metadata": {
    "colab_type": "text",
    "id": "nCmwTqmOuelC"
   },
   "source": [
    "6- Codifique un programa que asigne un array de enteros (como arriba), luego lo libere, y entonces intente imprimir el valor de un elemento del array. ¿El programa corre?, ¿Que pasa cuando hace uso de ```valgrind```?"
   ]
  },
  {
   "cell_type": "code",
   "execution_count": 0,
   "metadata": {
    "colab": {},
    "colab_type": "code",
    "id": "SpUGcS_VuelD"
   },
   "outputs": [],
   "source": [
    "#define NULL 0\n",
    "\n",
    "int main() {  \n",
    "  int *data = (int)malloc(100*sizeof(int));  \n",
    "  free(data);\n",
    "  printf(\"%i\",*(data + 47)); \n",
    "  data = NULL;\n",
    "  return 0;\n",
    "}"
   ]
  },
  {
   "cell_type": "markdown",
   "metadata": {
    "colab_type": "text",
    "id": "YGvK_6O9uelH"
   },
   "source": [
    "http://pythontutor.com/c.html#code=%23define%20NULL%200%0A%0Aint%20main%28%29%20%7B%20%20%0A%20%20int%20*data%20%3D%20%28int%29malloc%28100*sizeof%28int%29%29%3B%20%20%0A%20%20free%28data%29%3B%0A%20%20printf%28%22%25i%22,*%28data%20%2B%2047%29%29%3B%20%0A%20%20data%20%3D%20NULL%3B%0A%20%20return%200%3B%0A%7D&curInstr=0&mode=display&origin=opt-frontend.js&py=c&rawInputLstJSON=%5B%5D"
   ]
  },
  {
   "cell_type": "markdown",
   "metadata": {
    "colab_type": "text",
    "id": "0JTj0GxTwDtM"
   },
   "source": [
    "El programa corre y finaliza sin ningun contratiempo"
   ]
  },
  {
   "cell_type": "markdown",
   "metadata": {
    "colab_type": "text",
    "id": "auUpyxh0wIaf"
   },
   "source": [
    "![texto alternativo](https://raw.githubusercontent.com/grusnny/memory-api-master/master/Imagenes/Punto%206-gdb.png?token=AI5RIW4PR7BCV25MKTHXVH26TDD7U)"
   ]
  },
  {
   "cell_type": "markdown",
   "metadata": {
    "colab_type": "text",
    "id": "jhVsnwK8wOJ8"
   },
   "source": [
    "Pero al ejecutarlo con el valgrind se encuentra se esta accediendo a una posicion de memoria que ya fue liberada, por lo tanto esta acediendo a una posicion de memoria fuera de los limites (es un caso parecido al anterior)."
   ]
  },
  {
   "cell_type": "markdown",
   "metadata": {
    "colab_type": "text",
    "id": "qMMOhwVMwaEG"
   },
   "source": [
    "![texto alternativo](https://raw.githubusercontent.com/grusnny/memory-api-master/master/Imagenes/Punto%206-valgrind.png?token=AI5RIWY7MDW2O2OCLV6MT526TDEEE)"
   ]
  },
  {
   "cell_type": "markdown",
   "metadata": {
    "colab_type": "text",
    "id": "oJoX8z38uelJ"
   },
   "source": [
    "7- Ahora pase un **funny value** para liberar (e.g. un puntero en la mitad del array que usted ha asignado) ¿Qué pasa?, ¿Ústed necesita herramientas para encontrar este tipo de problemas?"
   ]
  },
  {
   "cell_type": "code",
   "execution_count": 0,
   "metadata": {
    "colab": {},
    "colab_type": "code",
    "id": "J7QlyId-uelL"
   },
   "outputs": [],
   "source": [
    "#define NULL 0\n",
    "\n",
    "int main() {  \n",
    "  int *data = (int)malloc(100*sizeof(int));  \n",
    "  int *funny_value=(data + 84);\n",
    "  free(funny_value);\n",
    "  data = NULL;\n",
    "  return 0;\n",
    "}"
   ]
  },
  {
   "cell_type": "markdown",
   "metadata": {
    "colab_type": "text",
    "id": "5H00e6IEuelO"
   },
   "source": [
    "http://pythontutor.com/c.html#code=%23define%20NULL%200%0A%0Aint%20main%28%29%20%7B%20%20%0A%20%20int%20*data%20%3D%20%28int%29malloc%28100*sizeof%28int%29%29%3B%20%20%0A%20%20int%20*funny_value%3D%28data%20%2B%2084%29%3B%0A%20%20free%28funny_value%29%3B%0A%20%20data%20%3D%20NULL%3B%0A%20%20return%200%3B%0A%7D&curInstr=4&mode=display&origin=opt-frontend.js&py=c&rawInputLstJSON=%5B%5D"
   ]
  },
  {
   "cell_type": "markdown",
   "metadata": {
    "colab_type": "text",
    "id": "lwMAJ5awxF9e"
   },
   "source": [
    "El programa no se puede ejecutar bien, se obtiene un mensaje de operacion abortada por un apuntador invalido utilizado para lilberar la memoria."
   ]
  },
  {
   "cell_type": "markdown",
   "metadata": {
    "colab_type": "text",
    "id": "S_1JIJPoxMnx"
   },
   "source": [
    "![texto alternativo](https://raw.githubusercontent.com/grusnny/memory-api-master/master/Imagenes/Punto%207-gdb.png?token=AI5RIW53RDD4U7YT7AV6L6S6TDERC)"
   ]
  },
  {
   "cell_type": "markdown",
   "metadata": {
    "colab_type": "text",
    "id": "ZCqxK97DzlGl"
   },
   "source": [
    "El valgrind nos dice que se utilizo un apuntador diferente al que se utilizo para realizar el mmalloc y que las direcciones de memoria son diferentes para ambos."
   ]
  },
  {
   "cell_type": "markdown",
   "metadata": {
    "colab_type": "text",
    "id": "34JIShY_xm4s"
   },
   "source": [
    "![texto alternativo](https://raw.githubusercontent.com/grusnny/memory-api-master/master/Imagenes/Punto%207-valgrind.png?token=AI5RIW6AAN2DGM4VLSJLPIS6TDEX6)"
   ]
  },
  {
   "cell_type": "markdown",
   "metadata": {
    "colab_type": "text",
    "id": "8rqeCHIGuelP"
   },
   "source": [
    "8- Intente usar alguna de las otras interfaces para asignacion de memoria. Por ejemplo, cree una estructura de datos simple similar a un vector y que use rutinas que usen realloc para manejar el vector. Use un array para almacenar los elementos del vector; cuando un usuario agregue una entrada al vector, use realloc para asignar un espacio mas a este. ¿Que tan bien funciona el vector asi?, ¿Como se compara con una lista enlazada?, utilice ```valgrind``` para ayudarse en la busqueda de errores."
   ]
  },
  {
   "cell_type": "code",
   "execution_count": 0,
   "metadata": {
    "colab": {},
    "colab_type": "code",
    "id": "IlU7z0wRuelQ"
   },
   "outputs": [],
   "source": [
    "#include <stdio.h>\n",
    "\n",
    "#define TAM1 1 \n",
    "#define TAM2 50\n",
    "#define TAM3 1\n",
    "\n",
    "int main() {\n",
    "  int *p;\n",
    "  p = malloc(TAM1*sizeof(int));\n",
    "  int *pp =p;\n",
    "  printf(\"Ubicacion del apuntador tras el malloc: %p\\n\",p);\n",
    "  int contador= TAM1;\n",
    "  for (int i = 0; i < TAM2; i++) {\n",
    "      if(i==contador) {\n",
    "        contador+=1;\n",
    "        p = realloc(p,(contador)*sizeof(int));\n",
    "        pp=p+i;\n",
    "      }\n",
    "\n",
    "    *(pp ) = i + 1; // p[i] = 0\n",
    "  }\n",
    "  free(p);   \n",
    "  p = NULL;\n",
    "  pp=NULL;\n",
    "  return 0;\n",
    "}"
   ]
  },
  {
   "cell_type": "markdown",
   "metadata": {
    "colab_type": "text",
    "id": "e3pnm3RRuelX"
   },
   "source": [
    "http://pythontutor.com/c.html#code=%23include%20%3Cstdio.h%3E%0A%0A%23define%20TAM1%201%20%0A%23define%20TAM2%2050%0A%23define%20TAM3%201%0A%0Aint%20main%28%29%20%7B%0A%20%20int%20*p%3B%0A%20%20p%20%3D%20malloc%28TAM1*sizeof%28int%29%29%3B%0A%20%20int%20*pp%20%3Dp%3B%0A%20%20printf%28%22Ubicacion%20del%20apuntador%20tras%20el%20malloc%3A%20%25p%5Cn%22,p%29%3B%0A%20%20int%20contador%3D%20TAM1%3B%0A%20%20for%20%28int%20i%20%3D%200%3B%20i%20%3C%20TAM2%3B%20i%2B%2B%29%20%7B%0A%20%20%20%20%20%20if%28i%3D%3Dcontador%29%20%7B%0A%20%20%20%20%20%20%20%20contador%2B%3D1%3B%0A%20%20%20%20%20%20%20%20p%20%3D%20realloc%28p,%28contador%29*sizeof%28int%29%29%3B%0A%20%20%20%20%20%20%20%20pp%3Dp%2Bi%3B%0A%20%20%20%20%20%20%7D%0A%0A%20%20%20%20*%28pp%20%29%20%3D%20i%20%2B%201%3B%20//%20p%5Bi%5D%20%3D%200%0A%20%20%7D%0A%20%20free%28p%29%3B%20%20%20%0A%20%20p%20%3D%20NULL%3B%0A%20%20pp%3DNULL%3B%0A%20%20return%200%3B%0A%7D&curInstr=305&mode=display&origin=opt-frontend.js&py=c&rawInputLstJSON=%5B%5D"
   ]
  },
  {
   "cell_type": "markdown",
   "metadata": {
    "colab_type": "text",
    "id": "MXdfpg3uxxmu"
   },
   "source": [
    "![texto alternativo](https://raw.githubusercontent.com/grusnny/memory-api-master/master/Imagenes/Punto%208-gdb.png?token=AI5RIW6R6HW6QNH3YAJDBQK6TDHBG)"
   ]
  },
  {
   "cell_type": "markdown",
   "metadata": {
    "colab_type": "text",
    "id": "N0VSW5LNz0RQ"
   },
   "source": [
    "Un vector de esta forma es muy eficiente ya que solo consume la memoria que extrictamente necesita y facilmente puede liberar la memoria que no requiere mas. Su similitud con una lista ligada es el requerir apuntadores para reconocer a partir de que posición se deben insertar los nuevos valores.  "
   ]
  },
  {
   "cell_type": "markdown",
   "metadata": {
    "colab_type": "text",
    "id": "_-JLAmzqx3ko"
   },
   "source": [
    "![texto alternativo](https://raw.githubusercontent.com/grusnny/memory-api-master/master/Imagenes/Punto%208-valgrind.png?token=AI5RIWZ74OBYNS32JWD7H5K6TDHCY)"
   ]
  }
 ],
 "metadata": {
  "colab": {
   "collapsed_sections": [],
   "name": "Solucion.ipynb",
   "provenance": []
  },
  "kernelspec": {
   "display_name": "Python 3",
   "language": "python",
   "name": "python3"
  },
  "language_info": {
   "codemirror_mode": {
    "name": "ipython",
    "version": 3
   },
   "file_extension": ".py",
   "mimetype": "text/x-python",
   "name": "python",
   "nbconvert_exporter": "python",
   "pygments_lexer": "ipython3",
   "version": "3.7.4"
  }
 },
 "nbformat": 4,
 "nbformat_minor": 1
}
